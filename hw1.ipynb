{
 "cells": [
  {
   "cell_type": "markdown",
   "metadata": {},
   "source": [
    "# 1 Homework"
   ]
  },
  {
   "cell_type": "markdown",
   "metadata": {},
   "source": [
    "### 1.2 Write a Jupyter Magic"
   ]
  },
  {
   "cell_type": "code",
   "execution_count": 3,
   "metadata": {},
   "outputs": [],
   "source": [
    "from IPython.core.magic import (register_line_magic, register_cell_magic, register_line_cell_magic)"
   ]
  },
  {
   "cell_type": "code",
   "execution_count": 4,
   "metadata": {},
   "outputs": [],
   "source": [
    "@register_line_cell_magic\n",
    "def countwords(line,cell = None):\n",
    "    if cell is None:\n",
    "        return len(line.split())\n",
    "    else:\n",
    "        return len((line + cell).split())"
   ]
  },
  {
   "cell_type": "code",
   "execution_count": 5,
   "metadata": {},
   "outputs": [
    {
     "data": {
      "text/plain": [
       "9"
      ]
     },
     "execution_count": 5,
     "metadata": {},
     "output_type": "execute_result"
    }
   ],
   "source": [
    "%countwords I don't know what I'm doing. Hope this works!"
   ]
  },
  {
   "cell_type": "code",
   "execution_count": 6,
   "metadata": {},
   "outputs": [
    {
     "data": {
      "text/plain": [
       "11"
      ]
     },
     "execution_count": 6,
     "metadata": {},
     "output_type": "execute_result"
    }
   ],
   "source": [
    "%%countwords \n",
    "\n",
    "It worked for a line,\n",
    "hope it works for \n",
    "a cell"
   ]
  },
  {
   "cell_type": "markdown",
   "metadata": {},
   "source": [
    "### 1.3 Profile the speed of list comprehension vs. for loops"
   ]
  },
  {
   "cell_type": "code",
   "execution_count": 23,
   "metadata": {},
   "outputs": [
    {
     "name": "stdout",
     "output_type": "stream",
     "text": [
      "CPU times: user 5 µs, sys: 0 ns, total: 5 µs\n",
      "Wall time: 9.06 µs\n"
     ]
    }
   ],
   "source": [
    "%time\n",
    "\n",
    "v = []\n",
    "i = 0\n",
    "for i in range(1000000):\n",
    "    v.append(i)"
   ]
  },
  {
   "cell_type": "code",
   "execution_count": 24,
   "metadata": {},
   "outputs": [
    {
     "name": "stdout",
     "output_type": "stream",
     "text": [
      "CPU times: user 4 µs, sys: 1 µs, total: 5 µs\n",
      "Wall time: 10 µs\n"
     ]
    }
   ],
   "source": [
    "%time\n",
    "\n",
    "v = [i for i in range(1000000)]"
   ]
  },
  {
   "cell_type": "code",
   "execution_count": 25,
   "metadata": {},
   "outputs": [
    {
     "name": "stdout",
     "output_type": "stream",
     "text": [
      "CPU times: user 360 ms, sys: 14.9 ms, total: 375 ms\n",
      "Wall time: 378 ms\n"
     ]
    }
   ],
   "source": [
    "%%time\n",
    "\n",
    "v = []\n",
    "i = 0\n",
    "for i in range(1000000):\n",
    "    v.append(i)"
   ]
  },
  {
   "cell_type": "code",
   "execution_count": 26,
   "metadata": {},
   "outputs": [
    {
     "name": "stdout",
     "output_type": "stream",
     "text": [
      "CPU times: user 173 ms, sys: 7.78 ms, total: 181 ms\n",
      "Wall time: 182 ms\n"
     ]
    }
   ],
   "source": [
    "%%time\n",
    "\n",
    "v = [i for i in range(1000000)]"
   ]
  },
  {
   "cell_type": "markdown",
   "metadata": {},
   "source": [
    "### 1.4 Prime numbers"
   ]
  },
  {
   "cell_type": "code",
   "execution_count": 27,
   "metadata": {},
   "outputs": [],
   "source": [
    "def findPrimes(inputList):\n",
    "    return [i for i in inputList if i > 1 and all(i % d != 0 for d in range(2,int(i ** 0.5) + 1))]"
   ]
  },
  {
   "cell_type": "code",
   "execution_count": 29,
   "metadata": {},
   "outputs": [
    {
     "name": "stdout",
     "output_type": "stream",
     "text": [
      "[2, 3, 5, 7, 11, 13, 17, 19, 23, 29, 31, 37, 41, 43, 47, 53, 59, 61, 67, 71, 73, 79, 83, 89, 97]\n"
     ]
    }
   ],
   "source": [
    "print(findPrimes(range(1,100)))"
   ]
  },
  {
   "cell_type": "markdown",
   "metadata": {},
   "source": [
    "### 1.5 Extend the Vector class"
   ]
  },
  {
   "cell_type": "code",
   "execution_count": 4,
   "metadata": {},
   "outputs": [],
   "source": [
    "class Vector:\n",
    "    def __init__(self,*nums):\n",
    "        self.v = nums\n",
    "    \n",
    "    def __repr__(self):\n",
    "        return f'Vector{self.v}'\n",
    "    \n",
    "    def __str__(self):\n",
    "        return f\"{self.v}\"\n",
    "    \n",
    "    def __len__(self):\n",
    "        return len(self.v)\n",
    "    \n",
    "    def __getitem__(self, i):\n",
    "        return self.v[i]\n",
    "    \n",
    "    def __reversed__(self):\n",
    "        return self[::-1]\n",
    "    \n",
    "    def __add__(self, new):\n",
    "        if(len(self.v) != len(new.v)):\n",
    "            print(\"Vectors can not be added\")\n",
    "        else:\n",
    "            return Vector(*(self[i] + new[i] for i in range(len(self.v))))\n",
    "        \n",
    "    def __mul__(self, scalar):\n",
    "        return Vector(*(i * scalar for i in self.v))"
   ]
  },
  {
   "cell_type": "code",
   "execution_count": 5,
   "metadata": {},
   "outputs": [
    {
     "name": "stdout",
     "output_type": "stream",
     "text": [
      "(1, 2, 3, 4, 5)\n",
      "(7, 8, 9)\n",
      "5\n",
      "3\n",
      "(4, 5)\n",
      "(8, 9)\n",
      "(5, 4, 3, 2, 1)\n",
      "(9, 8, 7)\n",
      "Vectors can not be added\n",
      "(8, 9, 10)\n",
      "(10, 20, 30, 40, 50)\n",
      "(14, 16, 18)\n"
     ]
    }
   ],
   "source": [
    "# construction\n",
    "v1 = Vector(1,2,3,4,5)\n",
    "v2 = Vector(7,8,9)\n",
    "v3 = Vector(1,1,1)\n",
    "\n",
    "# string\n",
    "print(v1)\n",
    "print(v2)\n",
    "\n",
    "# length\n",
    "print(len(v1))\n",
    "print(len(v2))\n",
    "\n",
    "# get item\n",
    "print(v1[3:])\n",
    "print(v2[-2:])\n",
    "\n",
    "# reversed\n",
    "print(reversed(v1))\n",
    "print(reversed(v2))\n",
    "\n",
    "# add\n",
    "v1 + v2\n",
    "print(v2 + v3)\n",
    "\n",
    "# multiply\n",
    "print(v1 * 10)\n",
    "print(v2 * 2)"
   ]
  },
  {
   "cell_type": "markdown",
   "metadata": {},
   "source": [
    "### 1.6 Case-insensitive dictionary"
   ]
  },
  {
   "cell_type": "code",
   "execution_count": 6,
   "metadata": {},
   "outputs": [],
   "source": [
    "class CaseInsensitiveDict(dict):\n",
    "    def __getitem__(self, key):\n",
    "        for i in list(self.keys()):\n",
    "            if i.lower() == key.lower():\n",
    "                return self.get(i)\n",
    "    \n",
    "    def __setitem__(self, key, value):\n",
    "        for i in list(self.keys()):\n",
    "            if i.lower() == key.lower():\n",
    "                self.update({i: value})\n",
    "                return\n",
    "        self.update({key: value})\n",
    "        \n",
    "    def __delitem__(self, key):\n",
    "        for i in list(self.keys()):\n",
    "            if i.lower() == key.lower():\n",
    "                return self.pop(i)\n",
    "        print(\"Key not in Dictionary\")\n",
    "        \n",
    "    def __contains__(self, key):\n",
    "        for i in list(self.keys()):\n",
    "            if i.lower() == key.lower():\n",
    "                return True\n",
    "        return False"
   ]
  },
  {
   "cell_type": "code",
   "execution_count": 7,
   "metadata": {},
   "outputs": [
    {
     "name": "stdout",
     "output_type": "stream",
     "text": [
      "6\n",
      "8\n",
      "19\n",
      "{'Adam': 6, 'leaRNS': 8, 'python': 19}\n",
      "{'leaRNS': 8, 'python': 19}\n",
      "Key not in Dictionary\n",
      "{'leaRNS': 8, 'python': 19}\n",
      "False\n",
      "True\n"
     ]
    }
   ],
   "source": [
    "d = CaseInsensitiveDict()\n",
    "\n",
    "# add, print items, test cases\n",
    "d['Adam'] = 6\n",
    "print(d['aDAm'])\n",
    "\n",
    "d['leaRNS'] = 8\n",
    "print(d['LEARNS'])\n",
    "\n",
    "d['python'] = 19\n",
    "print(d['Python'])\n",
    "\n",
    "# print full dictionary\n",
    "print(d)\n",
    "\n",
    "# test delete\n",
    "del d['ADAM']\n",
    "print(d)\n",
    "\n",
    "del d['FAKE_KEY']\n",
    "print(d)\n",
    "\n",
    "# test contains\n",
    "print('ADAM' in d)\n",
    "print('PYTHON' in d)\n"
   ]
  },
  {
   "cell_type": "code",
   "execution_count": null,
   "metadata": {},
   "outputs": [],
   "source": []
  }
 ],
 "metadata": {
  "kernelspec": {
   "display_name": "Python 3",
   "language": "python",
   "name": "python3"
  },
  "language_info": {
   "codemirror_mode": {
    "name": "ipython",
    "version": 3
   },
   "file_extension": ".py",
   "mimetype": "text/x-python",
   "name": "python",
   "nbconvert_exporter": "python",
   "pygments_lexer": "ipython3",
   "version": "3.7.7"
  },
  "toc": {
   "base_numbering": 1,
   "nav_menu": {},
   "number_sections": true,
   "sideBar": true,
   "skip_h1_title": false,
   "title_cell": "Table of Contents",
   "title_sidebar": "Contents",
   "toc_cell": false,
   "toc_position": {},
   "toc_section_display": true,
   "toc_window_display": false
  }
 },
 "nbformat": 4,
 "nbformat_minor": 4
}
