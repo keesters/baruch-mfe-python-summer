{
 "cells": [
  {
   "cell_type": "code",
   "execution_count": null,
   "metadata": {},
   "outputs": [],
   "source": [
    "# HW 2"
   ]
  },
  {
   "cell_type": "code",
   "execution_count": null,
   "metadata": {},
   "outputs": [],
   "source": [
    "### Merge Sorted Stream"
   ]
  },
  {
   "cell_type": "code",
   "execution_count": 3,
   "metadata": {},
   "outputs": [
    {
     "name": "stdout",
     "output_type": "stream",
     "text": [
      "********** Merge 2 Streams\n",
      "0\n",
      "1\n",
      "2\n",
      "3\n",
      "4\n",
      "5\n",
      "6\n",
      "7\n",
      "8\n",
      "9\n",
      "********** Merge 3 Streams\n",
      "0\n",
      "0\n",
      "1\n",
      "2\n",
      "3\n",
      "3\n",
      "4\n",
      "5\n",
      "6\n",
      "6\n",
      "7\n",
      "8\n",
      "9\n",
      "9\n"
     ]
    }
   ],
   "source": [
    "def merge_sorted_stream(*args):\n",
    "    iters = [iter(i) for i in args]\n",
    "    vals = [next(iters[i]) for i in range(len(iters))]\n",
    "    while len(vals) > 0:\n",
    "        min_ind = vals.index(min(vals))\n",
    "        yield vals[min_ind]\n",
    "        try:\n",
    "            vals[min_ind] = next(iters[min_ind])\n",
    "        except StopIteration:\n",
    "            iters.pop(min_ind)\n",
    "            vals.pop(min_ind)\n",
    "        \n",
    "stream1 = range(0, 10, 2)\n",
    "stream2 = range(1, 10, 2)\n",
    "stream3 = range(0, 10, 3) # every multiple of 3 will show up twice\n",
    "\n",
    "print(\"********** Merge 2 Streams\")\n",
    "for x in merge_sorted_stream(stream1,stream2):\n",
    "    print(x)\n",
    "\n",
    "print(\"********** Merge 3 Streams\")\n",
    "for x in merge_sorted_stream(stream1,stream2,stream3):\n",
    "    print(x)\n"
   ]
  },
  {
   "cell_type": "code",
   "execution_count": null,
   "metadata": {},
   "outputs": [],
   "source": [
    "### Tree Traversal"
   ]
  },
  {
   "cell_type": "code",
   "execution_count": 1,
   "metadata": {},
   "outputs": [
    {
     "name": "stdout",
     "output_type": "stream",
     "text": [
      "***** in order\n",
      "4 -> 2 -> 5 -> 1 -> 3\n",
      "***** pre order\n",
      "1 -> 2 -> 4 -> 5 -> 3\n",
      "***** post order\n",
      "4 -> 5 -> 2 -> 3 -> 1\n"
     ]
    }
   ],
   "source": [
    "# Tree traversal\n",
    "class TreeNode:\n",
    "    def __init__(self,val=0,left=None,right=None):\n",
    "        self.val = val\n",
    "        self.left = left\n",
    "        self.right = right\n",
    "    \n",
    "    def in_order(self):\n",
    "        if self:\n",
    "            if self.left:\n",
    "                yield from self.left.in_order()\n",
    "            yield self.val\n",
    "            if self.right:\n",
    "                yield from self.right.in_order()\n",
    "        \n",
    "    def pre_order(self):\n",
    "        if self:\n",
    "            yield self.val\n",
    "            if self.left:\n",
    "                yield from self.left.pre_order()\n",
    "            if self.right:\n",
    "                yield from self.right.pre_order()\n",
    "    def post_order(self):\n",
    "        if self:\n",
    "            if self.left:\n",
    "                yield from self.left.post_order()\n",
    "            if self.right:\n",
    "                yield from self.right.post_order()\n",
    "            yield self.val\n",
    "\n",
    "root = TreeNode(1)\n",
    "root.left = TreeNode(2)\n",
    "root.right = TreeNode(3)\n",
    "root.left.left = TreeNode(4)\n",
    "root.left.right = TreeNode(5)\n",
    "\n",
    "# 4 -> 2 -> 5 -> 1 -> 3\n",
    "print(\"***** in order\")\n",
    "print(' -> '.join(str(item) for item in root.in_order()))\n",
    "\n",
    "# 1 -> 2 -> 4-> 5 -> 3\n",
    "print(\"***** pre order\")\n",
    "print(' -> '.join(str(item) for item in root.pre_order()))\n",
    "\n",
    "# 4 -> 5 -> 2 -> 3 -> 1\n",
    "print(\"***** post order\")\n",
    "print(' -> '.join(str(item) for item in root.post_order()))"
   ]
  },
  {
   "cell_type": "code",
   "execution_count": null,
   "metadata": {},
   "outputs": [],
   "source": [
    "### Implement a Timer"
   ]
  },
  {
   "cell_type": "code",
   "execution_count": 6,
   "metadata": {},
   "outputs": [],
   "source": [
    "import time\n",
    "\n",
    "class stop_watch:\n",
    "    def __init__(self):\n",
    "        start_time = 0\n",
    "        end_time = 0\n",
    "        elapsed = 0\n",
    "    \n",
    "    def start(self):\n",
    "        self.start_time = time.time()\n",
    "        \n",
    "    def stop(self):\n",
    "        self.end_time = time.time()\n",
    "    \n",
    "    def run_time(self):\n",
    "        self.elapsed = self.end_time - self.start_time\n",
    "        return self.elapsed\n",
    "    \n",
    "    def reset(self):\n",
    "        self.start_time = 0\n",
    "        self.end_time = 0\n",
    "        self.elapsed = 0\n",
    "        \n",
    "    def pause(self):\n",
    "        self.elapsed = time.time() - self.start_time\n",
    "        self.start_time = 0"
   ]
  },
  {
   "cell_type": "code",
   "execution_count": 12,
   "metadata": {},
   "outputs": [
    {
     "name": "stdout",
     "output_type": "stream",
     "text": [
      "Run Time :  3.1581246852874756  seconds\n"
     ]
    }
   ],
   "source": [
    "adams_timer = stop_watch()\n",
    "adams_timer.start()\n",
    "for i in range(1000000):\n",
    "    pass\n",
    "time.sleep(3) # add sleep\n",
    "adams_timer.stop()\n",
    "print(\"Run Time : \",adams_timer.run_time(),\" seconds\")"
   ]
  }
 ],
 "metadata": {
  "kernelspec": {
   "display_name": "Python 3",
   "language": "python",
   "name": "python3"
  },
  "language_info": {
   "codemirror_mode": {
    "name": "ipython",
    "version": 3
   },
   "file_extension": ".py",
   "mimetype": "text/x-python",
   "name": "python",
   "nbconvert_exporter": "python",
   "pygments_lexer": "ipython3",
   "version": "3.7.7"
  },
  "toc": {
   "base_numbering": 1,
   "nav_menu": {},
   "number_sections": true,
   "sideBar": true,
   "skip_h1_title": false,
   "title_cell": "Table of Contents",
   "title_sidebar": "Contents",
   "toc_cell": false,
   "toc_position": {},
   "toc_section_display": true,
   "toc_window_display": false
  }
 },
 "nbformat": 4,
 "nbformat_minor": 4
}
