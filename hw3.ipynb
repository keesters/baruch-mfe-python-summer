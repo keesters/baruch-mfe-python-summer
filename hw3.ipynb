{
 "cells": [
  {
   "cell_type": "code",
   "execution_count": null,
   "metadata": {},
   "outputs": [],
   "source": [
    "# HW 3"
   ]
  },
  {
   "cell_type": "code",
   "execution_count": null,
   "metadata": {},
   "outputs": [],
   "source": [
    "# 1) Numpy implementation"
   ]
  },
  {
   "cell_type": "code",
   "execution_count": 38,
   "metadata": {},
   "outputs": [],
   "source": [
    "# naive implementation\n",
    "def func1(names, db):\n",
    "    idx = []\n",
    "    for i in names:\n",
    "        if i in db:\n",
    "            idx.append(db.index(i))\n",
    "    return idx\n",
    "\n",
    "# numpy implementation\n",
    "import numpy as np\n",
    "\n",
    "def func2(names, db):\n",
    "    mask = [np.isin(db,names)] # use mask to return correct indices\n",
    "    db_indices = np.arange(len(db)) # array of indices to be combined with mask\n",
    "    return db_indices[mask]"
   ]
  },
  {
   "cell_type": "code",
   "execution_count": 39,
   "metadata": {},
   "outputs": [],
   "source": [
    "db = [l+str(n) for l in \"abcdefghijkl\" for n in range(1,10)]\n",
    "names = ['a2','b36','n41','d8']"
   ]
  },
  {
   "cell_type": "code",
   "execution_count": 43,
   "metadata": {},
   "outputs": [
    {
     "name": "stdout",
     "output_type": "stream",
     "text": [
      "6.57 µs ± 432 ns per loop (mean ± std. dev. of 7 runs, 100000 loops each)\n",
      "39.1 µs ± 3.91 µs per loop (mean ± std. dev. of 7 runs, 10000 loops each)\n"
     ]
    }
   ],
   "source": [
    "%timeit func1(names,db)\n",
    "%timeit func2(names_np,db_np)\n",
    "\n",
    "# numpy is far slower than the naive implementation"
   ]
  },
  {
   "cell_type": "code",
   "execution_count": null,
   "metadata": {},
   "outputs": [],
   "source": [
    "# 2) Search for Pairs"
   ]
  },
  {
   "cell_type": "code",
   "execution_count": 54,
   "metadata": {},
   "outputs": [],
   "source": [
    "def search_pairs(pts,radius):\n",
    "    # create mask array : points inside of circle\n",
    "    mask_valid_pts = np.linalg.norm(pts,axis=1) < radius\n",
    "    # create mask n x n array : at least one point inside radius\n",
    "    mask_valid_sets = mask_valid_pts[:,np.newaxis] ^ mask_valid_pts\n",
    "    # create mask n x n array : use only points with lower indices first (to avoid double counting)\n",
    "    mask_valid_sets[np.tril_indices(len(pts))] = False\n",
    "    # create n x n array : distances between points\n",
    "    dist_sets = np.linalg.norm(pts[:, np.newaxis, :] - pts, axis=2)    \n",
    "    # apply mask (set non-valid pts to 0)\n",
    "    dist_sets[~mask_valid_sets] = 0\n",
    "    # create array : largest 3 distances\n",
    "    lg = np.sort(dist_sets[mask_valid_sets])[-3:]\n",
    "    # find indices of largest 3 distances\n",
    "    lg_idx = np.where(np.isin(dist_sets,lg))\n",
    "    # return transpose\n",
    "    return np.transpose(lg_idx)"
   ]
  },
  {
   "cell_type": "code",
   "execution_count": 55,
   "metadata": {},
   "outputs": [
    {
     "name": "stdout",
     "output_type": "stream",
     "text": [
      "[[0 3]\n",
      " [1 2]\n",
      " [1 3]]\n"
     ]
    }
   ],
   "source": [
    "coordinates = np.array(\n",
    "[[0.968, 0.313],\n",
    " [0.692, 0.876],\n",
    " [0.895, 0.085],\n",
    " [0.039, 0.17 ],\n",
    " [0.878, 0.098]]\n",
    ")\n",
    "cirle_r0 = 0.9\n",
    "print(search_pairs(coordinates, cirle_r0))\n",
    "\n",
    "# The indices of the relevant points in the original coordinates\n",
    "# [[2 1]\n",
    "# [3 0]\n",
    "# [3 1]]"
   ]
  }
 ],
 "metadata": {
  "kernelspec": {
   "display_name": "Python 3",
   "language": "python",
   "name": "python3"
  },
  "language_info": {
   "codemirror_mode": {
    "name": "ipython",
    "version": 3
   },
   "file_extension": ".py",
   "mimetype": "text/x-python",
   "name": "python",
   "nbconvert_exporter": "python",
   "pygments_lexer": "ipython3",
   "version": "3.7.6"
  }
 },
 "nbformat": 4,
 "nbformat_minor": 4
}
