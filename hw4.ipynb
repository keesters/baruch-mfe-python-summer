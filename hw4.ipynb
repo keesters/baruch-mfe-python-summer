{
 "cells": [
  {
   "cell_type": "markdown",
   "metadata": {},
   "source": [
    "# HW 4"
   ]
  },
  {
   "cell_type": "code",
   "execution_count": 2,
   "metadata": {},
   "outputs": [
    {
     "data": {
      "text/html": [
       "<style>.container { width:100% !important; }</style>"
      ],
      "text/plain": [
       "<IPython.core.display.HTML object>"
      ]
     },
     "metadata": {},
     "output_type": "display_data"
    }
   ],
   "source": [
    "from IPython.core.display import display, HTML\n",
    "display(HTML(\"<style>.container { width:100% !important; }</style>\"))\n",
    "import pandas as pd\n",
    "import numpy as np"
   ]
  },
  {
   "cell_type": "markdown",
   "metadata": {},
   "source": [
    "# Question 1: Exploratory Data Analysis"
   ]
  },
  {
   "cell_type": "code",
   "execution_count": 3,
   "metadata": {},
   "outputs": [],
   "source": [
    "import zipfile\n",
    "\n",
    "zf = zipfile.ZipFile('C:/Users/Adam/Documents/MFE/(5) Summer Prep/(7) Python/compustat.zip') \n",
    "data = pd.read_csv(zf.open('compustat.csv'))"
   ]
  },
  {
   "cell_type": "code",
   "execution_count": 4,
   "metadata": {},
   "outputs": [
    {
     "data": {
      "text/html": [
       "<div>\n",
       "<style scoped>\n",
       "    .dataframe tbody tr th:only-of-type {\n",
       "        vertical-align: middle;\n",
       "    }\n",
       "\n",
       "    .dataframe tbody tr th {\n",
       "        vertical-align: top;\n",
       "    }\n",
       "\n",
       "    .dataframe thead th {\n",
       "        text-align: right;\n",
       "    }\n",
       "</style>\n",
       "<table border=\"1\" class=\"dataframe\">\n",
       "  <thead>\n",
       "    <tr style=\"text-align: right;\">\n",
       "      <th></th>\n",
       "      <th>gvkey</th>\n",
       "      <th>datadate</th>\n",
       "      <th>fyearq</th>\n",
       "      <th>fqtr</th>\n",
       "      <th>indfmt</th>\n",
       "      <th>consol</th>\n",
       "      <th>popsrc</th>\n",
       "      <th>datafmt</th>\n",
       "      <th>cusip</th>\n",
       "      <th>curcdq</th>\n",
       "      <th>datacqtr</th>\n",
       "      <th>datafqtr</th>\n",
       "      <th>cshoq</th>\n",
       "      <th>saleq</th>\n",
       "      <th>costat</th>\n",
       "      <th>prccq</th>\n",
       "      <th>sic</th>\n",
       "    </tr>\n",
       "  </thead>\n",
       "  <tbody>\n",
       "    <tr>\n",
       "      <th>0</th>\n",
       "      <td>1000</td>\n",
       "      <td>19660331</td>\n",
       "      <td>1966</td>\n",
       "      <td>1</td>\n",
       "      <td>INDL</td>\n",
       "      <td>C</td>\n",
       "      <td>D</td>\n",
       "      <td>STD</td>\n",
       "      <td>000032102</td>\n",
       "      <td>USD</td>\n",
       "      <td>1966Q1</td>\n",
       "      <td>1966Q1</td>\n",
       "      <td>0.219</td>\n",
       "      <td>NaN</td>\n",
       "      <td>I</td>\n",
       "      <td>NaN</td>\n",
       "      <td>3089.0</td>\n",
       "    </tr>\n",
       "    <tr>\n",
       "      <th>1</th>\n",
       "      <td>1000</td>\n",
       "      <td>19660630</td>\n",
       "      <td>1966</td>\n",
       "      <td>2</td>\n",
       "      <td>INDL</td>\n",
       "      <td>C</td>\n",
       "      <td>D</td>\n",
       "      <td>STD</td>\n",
       "      <td>000032102</td>\n",
       "      <td>USD</td>\n",
       "      <td>1966Q2</td>\n",
       "      <td>1966Q2</td>\n",
       "      <td>0.219</td>\n",
       "      <td>NaN</td>\n",
       "      <td>I</td>\n",
       "      <td>NaN</td>\n",
       "      <td>3089.0</td>\n",
       "    </tr>\n",
       "    <tr>\n",
       "      <th>2</th>\n",
       "      <td>1000</td>\n",
       "      <td>19660930</td>\n",
       "      <td>1966</td>\n",
       "      <td>3</td>\n",
       "      <td>INDL</td>\n",
       "      <td>C</td>\n",
       "      <td>D</td>\n",
       "      <td>STD</td>\n",
       "      <td>000032102</td>\n",
       "      <td>USD</td>\n",
       "      <td>1966Q3</td>\n",
       "      <td>1966Q3</td>\n",
       "      <td>0.219</td>\n",
       "      <td>NaN</td>\n",
       "      <td>I</td>\n",
       "      <td>NaN</td>\n",
       "      <td>3089.0</td>\n",
       "    </tr>\n",
       "    <tr>\n",
       "      <th>3</th>\n",
       "      <td>1000</td>\n",
       "      <td>19661231</td>\n",
       "      <td>1966</td>\n",
       "      <td>4</td>\n",
       "      <td>INDL</td>\n",
       "      <td>C</td>\n",
       "      <td>D</td>\n",
       "      <td>STD</td>\n",
       "      <td>000032102</td>\n",
       "      <td>USD</td>\n",
       "      <td>1966Q4</td>\n",
       "      <td>1966Q4</td>\n",
       "      <td>0.219</td>\n",
       "      <td>4.032</td>\n",
       "      <td>I</td>\n",
       "      <td>NaN</td>\n",
       "      <td>3089.0</td>\n",
       "    </tr>\n",
       "    <tr>\n",
       "      <th>4</th>\n",
       "      <td>1000</td>\n",
       "      <td>19670331</td>\n",
       "      <td>1967</td>\n",
       "      <td>1</td>\n",
       "      <td>INDL</td>\n",
       "      <td>C</td>\n",
       "      <td>D</td>\n",
       "      <td>STD</td>\n",
       "      <td>000032102</td>\n",
       "      <td>USD</td>\n",
       "      <td>1967Q1</td>\n",
       "      <td>1967Q1</td>\n",
       "      <td>0.277</td>\n",
       "      <td>NaN</td>\n",
       "      <td>I</td>\n",
       "      <td>NaN</td>\n",
       "      <td>3089.0</td>\n",
       "    </tr>\n",
       "  </tbody>\n",
       "</table>\n",
       "</div>"
      ],
      "text/plain": [
       "   gvkey  datadate  fyearq  fqtr indfmt consol popsrc datafmt      cusip  \\\n",
       "0   1000  19660331    1966     1   INDL      C      D     STD  000032102   \n",
       "1   1000  19660630    1966     2   INDL      C      D     STD  000032102   \n",
       "2   1000  19660930    1966     3   INDL      C      D     STD  000032102   \n",
       "3   1000  19661231    1966     4   INDL      C      D     STD  000032102   \n",
       "4   1000  19670331    1967     1   INDL      C      D     STD  000032102   \n",
       "\n",
       "  curcdq datacqtr datafqtr  cshoq  saleq costat  prccq     sic  \n",
       "0    USD   1966Q1   1966Q1  0.219    NaN      I    NaN  3089.0  \n",
       "1    USD   1966Q2   1966Q2  0.219    NaN      I    NaN  3089.0  \n",
       "2    USD   1966Q3   1966Q3  0.219    NaN      I    NaN  3089.0  \n",
       "3    USD   1966Q4   1966Q4  0.219  4.032      I    NaN  3089.0  \n",
       "4    USD   1967Q1   1967Q1  0.277    NaN      I    NaN  3089.0  "
      ]
     },
     "execution_count": 4,
     "metadata": {},
     "output_type": "execute_result"
    }
   ],
   "source": [
    "data.head()"
   ]
  },
  {
   "cell_type": "markdown",
   "metadata": {},
   "source": [
    "### 1. Variable names that we are interested in:\n",
    "sic code: four digits integer for company<br>\n",
    "datecqtr: year/ quarter time for the record<br>\n",
    "cusip: compustats identifier for a company<br>\n",
    "chod: shares out of standing (in million)<br>\n",
    "saleq: sales of current quarter (in million)<br>\n",
    "prccq: close price of current quarter (in dollar)"
   ]
  },
  {
   "cell_type": "code",
   "execution_count": 5,
   "metadata": {},
   "outputs": [],
   "source": [
    "cols = pd.Index(['sic','datacqtr','cusip','cshoq','saleq','prccq'],name='variable')"
   ]
  },
  {
   "cell_type": "code",
   "execution_count": 6,
   "metadata": {},
   "outputs": [],
   "source": [
    "data = data.reindex(columns=cols)"
   ]
  },
  {
   "cell_type": "code",
   "execution_count": 7,
   "metadata": {},
   "outputs": [
    {
     "data": {
      "text/html": [
       "<div>\n",
       "<style scoped>\n",
       "    .dataframe tbody tr th:only-of-type {\n",
       "        vertical-align: middle;\n",
       "    }\n",
       "\n",
       "    .dataframe tbody tr th {\n",
       "        vertical-align: top;\n",
       "    }\n",
       "\n",
       "    .dataframe thead th {\n",
       "        text-align: right;\n",
       "    }\n",
       "</style>\n",
       "<table border=\"1\" class=\"dataframe\">\n",
       "  <thead>\n",
       "    <tr style=\"text-align: right;\">\n",
       "      <th>variable</th>\n",
       "      <th>sic</th>\n",
       "      <th>datacqtr</th>\n",
       "      <th>cusip</th>\n",
       "      <th>cshoq</th>\n",
       "      <th>saleq</th>\n",
       "      <th>prccq</th>\n",
       "    </tr>\n",
       "  </thead>\n",
       "  <tbody>\n",
       "    <tr>\n",
       "      <th>0</th>\n",
       "      <td>3089.0</td>\n",
       "      <td>1966Q1</td>\n",
       "      <td>000032102</td>\n",
       "      <td>0.219</td>\n",
       "      <td>NaN</td>\n",
       "      <td>NaN</td>\n",
       "    </tr>\n",
       "    <tr>\n",
       "      <th>1</th>\n",
       "      <td>3089.0</td>\n",
       "      <td>1966Q2</td>\n",
       "      <td>000032102</td>\n",
       "      <td>0.219</td>\n",
       "      <td>NaN</td>\n",
       "      <td>NaN</td>\n",
       "    </tr>\n",
       "    <tr>\n",
       "      <th>2</th>\n",
       "      <td>3089.0</td>\n",
       "      <td>1966Q3</td>\n",
       "      <td>000032102</td>\n",
       "      <td>0.219</td>\n",
       "      <td>NaN</td>\n",
       "      <td>NaN</td>\n",
       "    </tr>\n",
       "    <tr>\n",
       "      <th>3</th>\n",
       "      <td>3089.0</td>\n",
       "      <td>1966Q4</td>\n",
       "      <td>000032102</td>\n",
       "      <td>0.219</td>\n",
       "      <td>4.032</td>\n",
       "      <td>NaN</td>\n",
       "    </tr>\n",
       "    <tr>\n",
       "      <th>4</th>\n",
       "      <td>3089.0</td>\n",
       "      <td>1967Q1</td>\n",
       "      <td>000032102</td>\n",
       "      <td>0.277</td>\n",
       "      <td>NaN</td>\n",
       "      <td>NaN</td>\n",
       "    </tr>\n",
       "  </tbody>\n",
       "</table>\n",
       "</div>"
      ],
      "text/plain": [
       "variable     sic datacqtr      cusip  cshoq  saleq  prccq\n",
       "0         3089.0   1966Q1  000032102  0.219    NaN    NaN\n",
       "1         3089.0   1966Q2  000032102  0.219    NaN    NaN\n",
       "2         3089.0   1966Q3  000032102  0.219    NaN    NaN\n",
       "3         3089.0   1966Q4  000032102  0.219  4.032    NaN\n",
       "4         3089.0   1967Q1  000032102  0.277    NaN    NaN"
      ]
     },
     "execution_count": 7,
     "metadata": {},
     "output_type": "execute_result"
    }
   ],
   "source": [
    "data.head()"
   ]
  },
  {
   "cell_type": "code",
   "execution_count": 8,
   "metadata": {},
   "outputs": [],
   "source": [
    "# add market cap\n",
    "data['mktcap'] = data['cshoq']*data['prccq']"
   ]
  },
  {
   "cell_type": "code",
   "execution_count": 9,
   "metadata": {},
   "outputs": [
    {
     "data": {
      "text/html": [
       "<div>\n",
       "<style scoped>\n",
       "    .dataframe tbody tr th:only-of-type {\n",
       "        vertical-align: middle;\n",
       "    }\n",
       "\n",
       "    .dataframe tbody tr th {\n",
       "        vertical-align: top;\n",
       "    }\n",
       "\n",
       "    .dataframe thead th {\n",
       "        text-align: right;\n",
       "    }\n",
       "</style>\n",
       "<table border=\"1\" class=\"dataframe\">\n",
       "  <thead>\n",
       "    <tr style=\"text-align: right;\">\n",
       "      <th>variable</th>\n",
       "      <th>sic</th>\n",
       "      <th>datacqtr</th>\n",
       "      <th>cusip</th>\n",
       "      <th>cshoq</th>\n",
       "      <th>saleq</th>\n",
       "      <th>prccq</th>\n",
       "      <th>mktcap</th>\n",
       "    </tr>\n",
       "  </thead>\n",
       "  <tbody>\n",
       "    <tr>\n",
       "      <th>1811294</th>\n",
       "      <td>NaN</td>\n",
       "      <td>2019Q1</td>\n",
       "      <td>G4511M108</td>\n",
       "      <td>NaN</td>\n",
       "      <td>4.560</td>\n",
       "      <td>NaN</td>\n",
       "      <td>NaN</td>\n",
       "    </tr>\n",
       "    <tr>\n",
       "      <th>1811295</th>\n",
       "      <td>NaN</td>\n",
       "      <td>2019Q2</td>\n",
       "      <td>G4511M108</td>\n",
       "      <td>20.162</td>\n",
       "      <td>12.713</td>\n",
       "      <td>2.7500</td>\n",
       "      <td>55.445500</td>\n",
       "    </tr>\n",
       "    <tr>\n",
       "      <th>1811296</th>\n",
       "      <td>NaN</td>\n",
       "      <td>2019Q3</td>\n",
       "      <td>G4511M108</td>\n",
       "      <td>22.518</td>\n",
       "      <td>11.750</td>\n",
       "      <td>1.1500</td>\n",
       "      <td>25.895700</td>\n",
       "    </tr>\n",
       "    <tr>\n",
       "      <th>1811297</th>\n",
       "      <td>NaN</td>\n",
       "      <td>2019Q4</td>\n",
       "      <td>G4511M108</td>\n",
       "      <td>25.662</td>\n",
       "      <td>12.790</td>\n",
       "      <td>1.0173</td>\n",
       "      <td>26.105953</td>\n",
       "    </tr>\n",
       "    <tr>\n",
       "      <th>1811298</th>\n",
       "      <td>NaN</td>\n",
       "      <td>2020Q1</td>\n",
       "      <td>G4511M108</td>\n",
       "      <td>31.330</td>\n",
       "      <td>10.873</td>\n",
       "      <td>0.6400</td>\n",
       "      <td>20.051200</td>\n",
       "    </tr>\n",
       "  </tbody>\n",
       "</table>\n",
       "</div>"
      ],
      "text/plain": [
       "variable  sic datacqtr      cusip   cshoq   saleq   prccq     mktcap\n",
       "1811294   NaN   2019Q1  G4511M108     NaN   4.560     NaN        NaN\n",
       "1811295   NaN   2019Q2  G4511M108  20.162  12.713  2.7500  55.445500\n",
       "1811296   NaN   2019Q3  G4511M108  22.518  11.750  1.1500  25.895700\n",
       "1811297   NaN   2019Q4  G4511M108  25.662  12.790  1.0173  26.105953\n",
       "1811298   NaN   2020Q1  G4511M108  31.330  10.873  0.6400  20.051200"
      ]
     },
     "execution_count": 9,
     "metadata": {},
     "output_type": "execute_result"
    }
   ],
   "source": [
    "data.tail() # with mktcap added"
   ]
  },
  {
   "cell_type": "markdown",
   "metadata": {},
   "source": [
    "### 2. For saleq and market cap, compute the following:\n",
    "Time series mean <br>\n",
    "Time Series standard deviation<br>\n",
    "Time Series count of missing values<br>\n",
    "Time Series ratio of missing values<br>\n",
    "Aggregate the result in a dataframe<br>"
   ]
  },
  {
   "cell_type": "code",
   "execution_count": 10,
   "metadata": {},
   "outputs": [],
   "source": [
    "def get_stats(x):\n",
    "    null_ct = x.isnull().sum() # used 3 times, just call it once\n",
    "    return pd.Series([x.max(),x.min(),x.mean(),x.std(),null_ct,null_ct/(x.count()+null_ct)],index=['max','min','mean','stdev','null_ct','null_ratio']) # added max and min"
   ]
  },
  {
   "cell_type": "code",
   "execution_count": 11,
   "metadata": {},
   "outputs": [],
   "source": [
    "formatter = lambda x: '%.2f' % x"
   ]
  },
  {
   "cell_type": "code",
   "execution_count": 12,
   "metadata": {},
   "outputs": [
    {
     "data": {
      "text/html": [
       "<div>\n",
       "<style scoped>\n",
       "    .dataframe tbody tr th:only-of-type {\n",
       "        vertical-align: middle;\n",
       "    }\n",
       "\n",
       "    .dataframe tbody tr th {\n",
       "        vertical-align: top;\n",
       "    }\n",
       "\n",
       "    .dataframe thead th {\n",
       "        text-align: right;\n",
       "    }\n",
       "</style>\n",
       "<table border=\"1\" class=\"dataframe\">\n",
       "  <thead>\n",
       "    <tr style=\"text-align: right;\">\n",
       "      <th></th>\n",
       "      <th>saleq</th>\n",
       "      <th>mktcap</th>\n",
       "    </tr>\n",
       "  </thead>\n",
       "  <tbody>\n",
       "    <tr>\n",
       "      <th>max</th>\n",
       "      <td>207307.33</td>\n",
       "      <td>1540774.21</td>\n",
       "    </tr>\n",
       "    <tr>\n",
       "      <th>min</th>\n",
       "      <td>-25623.00</td>\n",
       "      <td>0.00</td>\n",
       "    </tr>\n",
       "    <tr>\n",
       "      <th>mean</th>\n",
       "      <td>445.15</td>\n",
       "      <td>2057.47</td>\n",
       "    </tr>\n",
       "    <tr>\n",
       "      <th>stdev</th>\n",
       "      <td>2679.71</td>\n",
       "      <td>13202.20</td>\n",
       "    </tr>\n",
       "    <tr>\n",
       "      <th>null_ct</th>\n",
       "      <td>269498.00</td>\n",
       "      <td>468276.00</td>\n",
       "    </tr>\n",
       "    <tr>\n",
       "      <th>null_ratio</th>\n",
       "      <td>0.15</td>\n",
       "      <td>0.26</td>\n",
       "    </tr>\n",
       "  </tbody>\n",
       "</table>\n",
       "</div>"
      ],
      "text/plain": [
       "                saleq      mktcap\n",
       "max         207307.33  1540774.21\n",
       "min         -25623.00        0.00\n",
       "mean           445.15     2057.47\n",
       "stdev         2679.71    13202.20\n",
       "null_ct     269498.00   468276.00\n",
       "null_ratio       0.15        0.26"
      ]
     },
     "execution_count": 12,
     "metadata": {},
     "output_type": "execute_result"
    }
   ],
   "source": [
    "data_stats = pd.DataFrame(data,columns=['saleq','mktcap']).apply(get_stats)\n",
    "data_stats.applymap(formatter)"
   ]
  },
  {
   "cell_type": "markdown",
   "metadata": {},
   "source": [
    "### 3. Answer the following questions:\n",
    "Before computing any value, what kinds of descriptive analysis would you do to check if there are outliers?<br>\n",
    "Implement some schemes to detect outliers.<br>\n",
    "Do you find some outliers? Could you think why? You can do some research using google.<br>\n",
    "What kinds of conclusion you can get from analyzing the table you get in 2? You can make some plots to illustrate.<br>"
   ]
  },
  {
   "cell_type": "markdown",
   "metadata": {},
   "source": [
    "#### Before computing any value, what kinds of descriptive analysis would you do to check if there are outliers?\n",
    "1) Examine the stats - i.e. saleq has a max that is ~74 standard deviations from the mean - there is a high potential for this to be an outlier<br>\n",
    "2) Look at a boxplot of the data to determine outliers<br>"
   ]
  },
  {
   "cell_type": "code",
   "execution_count": 13,
   "metadata": {},
   "outputs": [],
   "source": [
    "import matplotlib.pyplot as plt"
   ]
  },
  {
   "cell_type": "code",
   "execution_count": 14,
   "metadata": {},
   "outputs": [
    {
     "data": {
      "image/png": "[encoded data removed]",
      "text/plain": [
       "<Figure size 2160x216 with 1 Axes>"
      ]
     },
     "metadata": {
      "needs_background": "light"
     },
     "output_type": "display_data"
    }
   ],
   "source": [
    "# Implement some schemes to detect outliers.\n",
    "# for simplicity we will only look at saleq\n",
    "# boxplot\n",
    "fig = plt.figure(figsize =(30,3)) \n",
    "axes = fig.add_subplot(111) \n",
    "bp = axes.boxplot(data.dropna(subset=['saleq'])['saleq'],vert=False)"
   ]
  },
  {
   "cell_type": "markdown",
   "metadata": {},
   "source": [
    "##### Do you find some outliers? Could you think why? You can do some research using google.\n",
    "we can see from this box plot that there are a tremendous number of values outside of the inter-quartile range<br>\n",
    "although there are a ton of values outside of the IQR, their numbers don't indicate a single or even group of outliers but simply data with extremely long tails<br>\n",
    "for saleq specifically, this distribution makes sense. this data is taken from a number of different CUSIPs so we have both small and large cap companies driving the tails,<br>\n",
    "without even considering economic events that could drive outliers for a given CUSIP<br>"
   ]
  },
  {
   "cell_type": "code",
   "execution_count": 15,
   "metadata": {},
   "outputs": [
    {
     "data": {
      "text/html": [
       "<div>\n",
       "<style scoped>\n",
       "    .dataframe tbody tr th:only-of-type {\n",
       "        vertical-align: middle;\n",
       "    }\n",
       "\n",
       "    .dataframe tbody tr th {\n",
       "        vertical-align: top;\n",
       "    }\n",
       "\n",
       "    .dataframe thead th {\n",
       "        text-align: right;\n",
       "    }\n",
       "</style>\n",
       "<table border=\"1\" class=\"dataframe\">\n",
       "  <thead>\n",
       "    <tr style=\"text-align: right;\">\n",
       "      <th></th>\n",
       "      <th>saleq</th>\n",
       "      <th>mktcap</th>\n",
       "    </tr>\n",
       "  </thead>\n",
       "  <tbody>\n",
       "    <tr>\n",
       "      <th>max</th>\n",
       "      <td>207307.33</td>\n",
       "      <td>1540774.21</td>\n",
       "    </tr>\n",
       "    <tr>\n",
       "      <th>min</th>\n",
       "      <td>-25623.00</td>\n",
       "      <td>0.00</td>\n",
       "    </tr>\n",
       "    <tr>\n",
       "      <th>mean</th>\n",
       "      <td>445.15</td>\n",
       "      <td>2057.47</td>\n",
       "    </tr>\n",
       "    <tr>\n",
       "      <th>stdev</th>\n",
       "      <td>2679.71</td>\n",
       "      <td>13202.20</td>\n",
       "    </tr>\n",
       "    <tr>\n",
       "      <th>null_ct</th>\n",
       "      <td>269498.00</td>\n",
       "      <td>468276.00</td>\n",
       "    </tr>\n",
       "    <tr>\n",
       "      <th>null_ratio</th>\n",
       "      <td>0.15</td>\n",
       "      <td>0.26</td>\n",
       "    </tr>\n",
       "  </tbody>\n",
       "</table>\n",
       "</div>"
      ],
      "text/plain": [
       "                saleq      mktcap\n",
       "max         207307.33  1540774.21\n",
       "min         -25623.00        0.00\n",
       "mean           445.15     2057.47\n",
       "stdev         2679.71    13202.20\n",
       "null_ct     269498.00   468276.00\n",
       "null_ratio       0.15        0.26"
      ]
     },
     "execution_count": 15,
     "metadata": {},
     "output_type": "execute_result"
    }
   ],
   "source": [
    "data_stats.applymap(formatter)"
   ]
  },
  {
   "cell_type": "markdown",
   "metadata": {},
   "source": [
    "#### What kinds of conclusion you can get from analyzing the table you get in 2? You can make some plots to illustrate.\n",
    "Analyzing the above table, we can see that the data will have an extremely long right tail. This was confirmed by the boxplot.<br>\n",
    "From looking at market cap, we can also see that we have a huge spread of company sizes, considering the max is ~77x larger than the mean and stdev is ~7x the mean.\n",
    "It probably does not make sense to do analysis before parsing the data further - either by mktcap or looking at individual CUSIPs or in some other way."
   ]
  },
  {
   "cell_type": "markdown",
   "metadata": {},
   "source": [
    "# Question 2: Compute Industry Concentration"
   ]
  },
  {
   "cell_type": "code",
   "execution_count": 16,
   "metadata": {},
   "outputs": [
    {
     "data": {
      "text/plain": [
       "count    85853.000000\n",
       "mean      3720.902151\n",
       "std       2477.010747\n",
       "min        744.241050\n",
       "25%       1941.663049\n",
       "50%       2944.189236\n",
       "75%       4834.335125\n",
       "max      10000.000000\n",
       "Name: HHI_ind, dtype: float64"
      ]
     },
     "execution_count": 16,
     "metadata": {},
     "output_type": "execute_result"
    }
   ],
   "source": [
    "# pull in necessary data from 'data' df, organize\n",
    "data_HHI = pd.DataFrame(data,columns=['sic','datacqtr','mktcap']) # select only the necessary data\n",
    "data_HHI = data_HHI.dropna(subset=['sic','datacqtr','mktcap']) # get rid of all NaN entries\n",
    "data_HHI = data_HHI.groupby(['sic','datacqtr'],as_index=False)['mktcap'].sum() # reduce table by sic/datacqtr unique combos\n",
    "data_HHI['ind_code'] = data_HHI['sic']//100 # get two digit sic codes\n",
    "\n",
    "# calculate industry caps, add to data_HHI\n",
    "ind_cap = data_HHI.groupby(['datacqtr','ind_code'])['mktcap'].sum().reset_index()\n",
    "ind_cap.rename(columns={'mktcap':'ind_cap'},inplace=True)\n",
    "data_HHI = pd.merge(data_HHI,ind_cap,on=['datacqtr','ind_code'])\n",
    "\n",
    "# calc mktshare, HHI by company\n",
    "data_HHI['mktshare'] = data_HHI['mktcap']/data_HHI['ind_cap']\n",
    "data_HHI['HHI'] = (data_HHI['mktshare']*100)**2\n",
    "\n",
    "# calculate industry HHI, add to data_HHI\n",
    "HHI_ind = data_HHI.groupby(['datacqtr','ind_code'])['HHI'].sum().reset_index()\n",
    "HHI_ind.rename(columns={'HHI':'HHI_ind'},inplace=True)\n",
    "data_HHI = pd.merge(data_HHI,HHI_ind,on=['datacqtr','ind_code'])\n",
    "\n",
    "data_HHI['HHI_ind'].describe()"
   ]
  },
  {
   "cell_type": "code",
   "execution_count": 17,
   "metadata": {},
   "outputs": [
    {
     "data": {
      "text/html": [
       "<div>\n",
       "<style scoped>\n",
       "    .dataframe tbody tr th:only-of-type {\n",
       "        vertical-align: middle;\n",
       "    }\n",
       "\n",
       "    .dataframe tbody tr th {\n",
       "        vertical-align: top;\n",
       "    }\n",
       "\n",
       "    .dataframe thead th {\n",
       "        text-align: right;\n",
       "    }\n",
       "</style>\n",
       "<table border=\"1\" class=\"dataframe\">\n",
       "  <thead>\n",
       "    <tr style=\"text-align: right;\">\n",
       "      <th></th>\n",
       "      <th>ind_code</th>\n",
       "      <th>HHI_ind</th>\n",
       "    </tr>\n",
       "  </thead>\n",
       "  <tbody>\n",
       "    <tr>\n",
       "      <th>0</th>\n",
       "      <td>58.0</td>\n",
       "      <td>9934.800747</td>\n",
       "    </tr>\n",
       "    <tr>\n",
       "      <th>1</th>\n",
       "      <td>40.0</td>\n",
       "      <td>9923.524283</td>\n",
       "    </tr>\n",
       "    <tr>\n",
       "      <th>2</th>\n",
       "      <td>70.0</td>\n",
       "      <td>9902.525227</td>\n",
       "    </tr>\n",
       "    <tr>\n",
       "      <th>3</th>\n",
       "      <td>29.0</td>\n",
       "      <td>9660.884951</td>\n",
       "    </tr>\n",
       "    <tr>\n",
       "      <th>4</th>\n",
       "      <td>21.0</td>\n",
       "      <td>8977.683518</td>\n",
       "    </tr>\n",
       "  </tbody>\n",
       "</table>\n",
       "</div>"
      ],
      "text/plain": [
       "   ind_code      HHI_ind\n",
       "0      58.0  9934.800747\n",
       "1      40.0  9923.524283\n",
       "2      70.0  9902.525227\n",
       "3      29.0  9660.884951\n",
       "4      21.0  8977.683518"
      ]
     },
     "execution_count": 17,
     "metadata": {},
     "output_type": "execute_result"
    }
   ],
   "source": [
    "# calculate average HHI across all quarters\n",
    "avg_HHI = data_HHI.groupby(['ind_code'])['HHI_ind'].mean().reset_index()\n",
    "# remove industries with average HHI of 10,000 (indstries with only one company)\n",
    "avg_HHI = avg_HHI[avg_HHI['HHI_ind']<10000]\n",
    "avg_HHI.sort_values(ascending=False,by='HHI_ind',inplace=True,ignore_index=True)\n",
    "avg_HHI.head()"
   ]
  },
  {
   "cell_type": "code",
   "execution_count": 18,
   "metadata": {},
   "outputs": [
    {
     "data": {
      "text/plain": [
       "[58.0, 40.0, 70.0, 29.0]"
      ]
     },
     "execution_count": 18,
     "metadata": {},
     "output_type": "execute_result"
    }
   ],
   "source": [
    "# get top 4 industries by average HHI\n",
    "concentrated_inds = [avg_HHI['ind_code'][index] for index in range(4)]\n",
    "concentrated_inds"
   ]
  },
  {
   "cell_type": "code",
   "execution_count": 33,
   "metadata": {},
   "outputs": [
    {
     "data": {
      "text/html": [
       "<div>\n",
       "<style scoped>\n",
       "    .dataframe tbody tr th:only-of-type {\n",
       "        vertical-align: middle;\n",
       "    }\n",
       "\n",
       "    .dataframe tbody tr th {\n",
       "        vertical-align: top;\n",
       "    }\n",
       "\n",
       "    .dataframe thead th {\n",
       "        text-align: right;\n",
       "    }\n",
       "</style>\n",
       "<table border=\"1\" class=\"dataframe\">\n",
       "  <thead>\n",
       "    <tr style=\"text-align: right;\">\n",
       "      <th></th>\n",
       "      <th>datacqtr</th>\n",
       "      <th>ind_code</th>\n",
       "      <th>HHI_ind</th>\n",
       "    </tr>\n",
       "  </thead>\n",
       "  <tbody>\n",
       "    <tr>\n",
       "      <th>0</th>\n",
       "      <td>1966-01-01</td>\n",
       "      <td>29.0</td>\n",
       "      <td>10000.000000</td>\n",
       "    </tr>\n",
       "    <tr>\n",
       "      <th>1</th>\n",
       "      <td>1966-04-01</td>\n",
       "      <td>29.0</td>\n",
       "      <td>10000.000000</td>\n",
       "    </tr>\n",
       "    <tr>\n",
       "      <th>2</th>\n",
       "      <td>1966-07-01</td>\n",
       "      <td>29.0</td>\n",
       "      <td>10000.000000</td>\n",
       "    </tr>\n",
       "    <tr>\n",
       "      <th>3</th>\n",
       "      <td>1966-10-01</td>\n",
       "      <td>29.0</td>\n",
       "      <td>10000.000000</td>\n",
       "    </tr>\n",
       "    <tr>\n",
       "      <th>4</th>\n",
       "      <td>1967-01-01</td>\n",
       "      <td>29.0</td>\n",
       "      <td>5426.014686</td>\n",
       "    </tr>\n",
       "    <tr>\n",
       "      <th>...</th>\n",
       "      <td>...</td>\n",
       "      <td>...</td>\n",
       "      <td>...</td>\n",
       "    </tr>\n",
       "    <tr>\n",
       "      <th>878</th>\n",
       "      <td>2019-01-01</td>\n",
       "      <td>70.0</td>\n",
       "      <td>10000.000000</td>\n",
       "    </tr>\n",
       "    <tr>\n",
       "      <th>879</th>\n",
       "      <td>2019-04-01</td>\n",
       "      <td>70.0</td>\n",
       "      <td>10000.000000</td>\n",
       "    </tr>\n",
       "    <tr>\n",
       "      <th>880</th>\n",
       "      <td>2019-07-01</td>\n",
       "      <td>70.0</td>\n",
       "      <td>10000.000000</td>\n",
       "    </tr>\n",
       "    <tr>\n",
       "      <th>881</th>\n",
       "      <td>2019-10-01</td>\n",
       "      <td>70.0</td>\n",
       "      <td>10000.000000</td>\n",
       "    </tr>\n",
       "    <tr>\n",
       "      <th>882</th>\n",
       "      <td>2020-01-01</td>\n",
       "      <td>70.0</td>\n",
       "      <td>10000.000000</td>\n",
       "    </tr>\n",
       "  </tbody>\n",
       "</table>\n",
       "<p>883 rows × 3 columns</p>\n",
       "</div>"
      ],
      "text/plain": [
       "      datacqtr  ind_code       HHI_ind\n",
       "0   1966-01-01      29.0  10000.000000\n",
       "1   1966-04-01      29.0  10000.000000\n",
       "2   1966-07-01      29.0  10000.000000\n",
       "3   1966-10-01      29.0  10000.000000\n",
       "4   1967-01-01      29.0   5426.014686\n",
       "..         ...       ...           ...\n",
       "878 2019-01-01      70.0  10000.000000\n",
       "879 2019-04-01      70.0  10000.000000\n",
       "880 2019-07-01      70.0  10000.000000\n",
       "881 2019-10-01      70.0  10000.000000\n",
       "882 2020-01-01      70.0  10000.000000\n",
       "\n",
       "[883 rows x 3 columns]"
      ]
     },
     "execution_count": 33,
     "metadata": {},
     "output_type": "execute_result"
    }
   ],
   "source": [
    "# data_HHI for only top four industries, only necessary data: datacqtr, ind_code, HHI_ind\n",
    "top_HHI = pd.DataFrame(data_HHI,columns=['datacqtr','ind_code','HHI_ind'])\n",
    "top_HHI = top_HHI[top_HHI['ind_code'].isin(concentrated_inds)]\n",
    "\n",
    "# get rid of duplicates: there will be as many duplicates as companies in an industry\n",
    "top_HHI.drop_duplicates(inplace=True)\n",
    "\n",
    "# reset index\n",
    "top_HHI.reset_index(drop=True,inplace=True)\n",
    "\n",
    "# change datacqtr to date format (to be used later for plotting)\n",
    "top_HHI['datacqtr'] = pd.to_datetime(top_HHI['datacqtr'].str[:4] + top_HHI['datacqtr'].str[4:6])\n",
    "\n",
    "top_HHI"
   ]
  },
  {
   "cell_type": "code",
   "execution_count": 34,
   "metadata": {},
   "outputs": [
    {
     "data": {
      "text/html": [
       "<div>\n",
       "<style scoped>\n",
       "    .dataframe tbody tr th:only-of-type {\n",
       "        vertical-align: middle;\n",
       "    }\n",
       "\n",
       "    .dataframe tbody tr th {\n",
       "        vertical-align: top;\n",
       "    }\n",
       "\n",
       "    .dataframe thead th {\n",
       "        text-align: right;\n",
       "    }\n",
       "</style>\n",
       "<table border=\"1\" class=\"dataframe\">\n",
       "  <thead>\n",
       "    <tr style=\"text-align: right;\">\n",
       "      <th>ind_code</th>\n",
       "      <th>29.0</th>\n",
       "      <th>40.0</th>\n",
       "      <th>58.0</th>\n",
       "      <th>70.0</th>\n",
       "    </tr>\n",
       "    <tr>\n",
       "      <th>datacqtr</th>\n",
       "      <th></th>\n",
       "      <th></th>\n",
       "      <th></th>\n",
       "      <th></th>\n",
       "    </tr>\n",
       "  </thead>\n",
       "  <tbody>\n",
       "    <tr>\n",
       "      <th>1967-10-01</th>\n",
       "      <td>5012.337056</td>\n",
       "      <td>9586.473875</td>\n",
       "      <td>10000.000000</td>\n",
       "      <td>10000.0</td>\n",
       "    </tr>\n",
       "    <tr>\n",
       "      <th>1968-01-01</th>\n",
       "      <td>6542.375959</td>\n",
       "      <td>10000.000000</td>\n",
       "      <td>10000.000000</td>\n",
       "      <td>10000.0</td>\n",
       "    </tr>\n",
       "    <tr>\n",
       "      <th>1968-04-01</th>\n",
       "      <td>5441.119064</td>\n",
       "      <td>10000.000000</td>\n",
       "      <td>10000.000000</td>\n",
       "      <td>10000.0</td>\n",
       "    </tr>\n",
       "    <tr>\n",
       "      <th>1968-10-01</th>\n",
       "      <td>6671.482327</td>\n",
       "      <td>9799.633620</td>\n",
       "      <td>10000.000000</td>\n",
       "      <td>10000.0</td>\n",
       "    </tr>\n",
       "    <tr>\n",
       "      <th>1969-04-01</th>\n",
       "      <td>7026.116164</td>\n",
       "      <td>9285.417305</td>\n",
       "      <td>10000.000000</td>\n",
       "      <td>10000.0</td>\n",
       "    </tr>\n",
       "    <tr>\n",
       "      <th>...</th>\n",
       "      <td>...</td>\n",
       "      <td>...</td>\n",
       "      <td>...</td>\n",
       "      <td>...</td>\n",
       "    </tr>\n",
       "    <tr>\n",
       "      <th>2019-01-01</th>\n",
       "      <td>9857.598674</td>\n",
       "      <td>10000.000000</td>\n",
       "      <td>9819.565617</td>\n",
       "      <td>10000.0</td>\n",
       "    </tr>\n",
       "    <tr>\n",
       "      <th>2019-04-01</th>\n",
       "      <td>9846.427122</td>\n",
       "      <td>10000.000000</td>\n",
       "      <td>9930.307862</td>\n",
       "      <td>10000.0</td>\n",
       "    </tr>\n",
       "    <tr>\n",
       "      <th>2019-07-01</th>\n",
       "      <td>9825.724584</td>\n",
       "      <td>10000.000000</td>\n",
       "      <td>9853.862059</td>\n",
       "      <td>10000.0</td>\n",
       "    </tr>\n",
       "    <tr>\n",
       "      <th>2019-10-01</th>\n",
       "      <td>9819.588106</td>\n",
       "      <td>10000.000000</td>\n",
       "      <td>9927.898520</td>\n",
       "      <td>10000.0</td>\n",
       "    </tr>\n",
       "    <tr>\n",
       "      <th>2020-01-01</th>\n",
       "      <td>9753.731986</td>\n",
       "      <td>10000.000000</td>\n",
       "      <td>9907.111198</td>\n",
       "      <td>10000.0</td>\n",
       "    </tr>\n",
       "  </tbody>\n",
       "</table>\n",
       "<p>207 rows × 4 columns</p>\n",
       "</div>"
      ],
      "text/plain": [
       "ind_code           29.0          40.0          58.0     70.0\n",
       "datacqtr                                                    \n",
       "1967-10-01  5012.337056   9586.473875  10000.000000  10000.0\n",
       "1968-01-01  6542.375959  10000.000000  10000.000000  10000.0\n",
       "1968-04-01  5441.119064  10000.000000  10000.000000  10000.0\n",
       "1968-10-01  6671.482327   9799.633620  10000.000000  10000.0\n",
       "1969-04-01  7026.116164   9285.417305  10000.000000  10000.0\n",
       "...                 ...           ...           ...      ...\n",
       "2019-01-01  9857.598674  10000.000000   9819.565617  10000.0\n",
       "2019-04-01  9846.427122  10000.000000   9930.307862  10000.0\n",
       "2019-07-01  9825.724584  10000.000000   9853.862059  10000.0\n",
       "2019-10-01  9819.588106  10000.000000   9927.898520  10000.0\n",
       "2020-01-01  9753.731986  10000.000000   9907.111198  10000.0\n",
       "\n",
       "[207 rows x 4 columns]"
      ]
     },
     "execution_count": 34,
     "metadata": {},
     "output_type": "execute_result"
    }
   ],
   "source": [
    "# pivot data for time series plotting\n",
    "ts_data = top_HHI.pivot(index='datacqtr', columns='ind_code', values='HHI_ind')\n",
    "\n",
    "# only use timeframe in which all four industries existed\n",
    "ts_data.dropna(inplace=True)\n",
    "\n",
    "ts_data"
   ]
  },
  {
   "cell_type": "code",
   "execution_count": 35,
   "metadata": {},
   "outputs": [
    {
     "data": {
      "image/png": "[encoded data removed]",
      "text/plain": [
       "<Figure size 720x720 with 4 Axes>"
      ]
     },
     "metadata": {
      "needs_background": "light"
     },
     "output_type": "display_data"
    }
   ],
   "source": [
    "# plot time series of top 4 industries in 2x2 figure\n",
    "# fig = plt.figure(figsize =(10,10)) \n",
    "fig = plt.figure(figsize=(10,10)) \n",
    "axes = fig.subplots(2,2)\n",
    "\n",
    "fig.suptitle('Top 4 Average HHI Industries : HHI Time Series')\n",
    "axes[0, 0].plot(ts_data.index, ts_data.iloc[:,0])\n",
    "axes[0, 0].set_title(label='Industry Code : '+str(ts_data.columns[0]))\n",
    "axes[0, 1].plot(ts_data.index, ts_data.iloc[:,1])\n",
    "axes[0, 1].set_title(label='Industry Code : '+str(ts_data.columns[1]))\n",
    "axes[1, 0].plot(ts_data.index, ts_data.iloc[:,2])\n",
    "axes[1, 0].set_title(label='Industry Code : '+str(ts_data.columns[2]))\n",
    "axes[1, 1].plot(ts_data.index, ts_data.iloc[:,3])\n",
    "axes[1, 1].set_title(label='Industry Code : '+str(ts_data.columns[3]))\n",
    "\n",
    "for ax in axes.flat:\n",
    "    ax.set(xlabel='Quarter', ylabel='HHI')\n",
    "\n",
    "# hide outer labels\n",
    "for ax in axes.flat:\n",
    "    ax.label_outer()"
   ]
  },
  {
   "cell_type": "markdown",
   "metadata": {},
   "source": [
    "These industries were not selected very rigorously.<br>\n",
    "A more thorough approach would have been to not use any industries where HHI reached 10,000<br>\n",
    "at any point throughout the time series to get a view of more consistent and realistic industries<br>"
   ]
  },
  {
   "cell_type": "code",
   "execution_count": null,
   "metadata": {},
   "outputs": [],
   "source": []
  }
 ],
 "metadata": {
  "kernelspec": {
   "display_name": "Python 3",
   "language": "python",
   "name": "python3"
  },
  "language_info": {
   "codemirror_mode": {
    "name": "ipython",
    "version": 3
   },
   "file_extension": ".py",
   "mimetype": "text/x-python",
   "name": "python",
   "nbconvert_exporter": "python",
   "pygments_lexer": "ipython3",
   "version": "3.7.6"
  }
 },
 "nbformat": 4,
 "nbformat_minor": 4
}
