{
 "cells": [
  {
   "cell_type": "markdown",
   "metadata": {},
   "source": [
    "# Question 1 Algorithmic questions"
   ]
  },
  {
   "cell_type": "markdown",
   "metadata": {},
   "source": [
    "Find the kth largest element in an unsorted array.<br>\n",
    "Note that it is the kth largest element in the sorted order, not the kth distinct element."
   ]
  },
  {
   "cell_type": "code",
   "execution_count": 1,
   "metadata": {},
   "outputs": [],
   "source": [
    "import heapq\n",
    "import math\n",
    "from random import randrange"
   ]
  },
  {
   "cell_type": "code",
   "execution_count": 2,
   "metadata": {},
   "outputs": [],
   "source": [
    "# test cases\n",
    "\n",
    "### assume 1 ≤ k ≤ array's length (i.e. corner cases/bad inputs unnecessary)\n",
    "\n",
    "### test 1 : provided\n",
    "### output : 5\n",
    "v1 = [3,2,1,5,6,4]\n",
    "k1 = 2\n",
    "\n",
    "### test 2 : provided\n",
    "### output : 4\n",
    "v2 = [3,2,3,1,2,4,5,5,6]\n",
    "k2 = 4\n",
    "\n",
    "### test 3 : test an element in the original heap\n",
    "### output : 4\n",
    "v3 = [1,2,3,4,5,6,7,8,9,10]\n",
    "k3 = 7\n",
    "\n",
    "### test 4 : test the last element added to the heap\n",
    "### output : 7\n",
    "v4 = [1,2,3,4,5,6,10,8,9,7]\n",
    "k4 = 4\n",
    "\n",
    "### test 5 : test at lowest level\n",
    "### output : 1\n",
    "v5 = [1,2,3,4,5,6,7,8,9,10]\n",
    "k5 = 10\n",
    "\n",
    "### test 6 : test giant heap\n",
    "### output : expected 0 with high probability (assuming we generate at least 3 0's)\n",
    "v6 = [randrange(10) for i in range(100000)]\n",
    "k6 = 99997\n",
    "\n",
    "### test 7 : test tiny heap with many values\n",
    "### output : expected 9 with high probability (assuming we generate at least 2 9's)\n",
    "v7 = [randrange(10) for i in range(100000)]\n",
    "k7 = 2\n",
    "\n",
    "# put test cases into list for efficiency\n",
    "test_cases = [(v1,k1),(v2,k2),(v3,k3),(v4,k4),(v5,k5),(v6,k6),(v7,k7)]"
   ]
  },
  {
   "cell_type": "code",
   "execution_count": 3,
   "metadata": {},
   "outputs": [],
   "source": [
    "# find kth largest element\n",
    "### create heap with first k values from array\n",
    "### pushpop all remaining values in array\n",
    "### final heap will contain the k largest values\n",
    "### pop one last time to get the kth largest value\n",
    "def find_kth_largest(u_array,k):\n",
    "    h = [val for val in u_array[:k]] # O(1) time\n",
    "    heapq.heapify(h) # O(n) time\n",
    "    for val in u_array[k:len(u_array)]: # O(n) time\n",
    "        heapq.heappushpop(h,val)\n",
    "    return heapq.heappop(h) # O(1) time\n",
    "\n",
    "# the time complexity should be O(n) since we don't have any functions/loops that run with greater time complexity"
   ]
  },
  {
   "cell_type": "code",
   "execution_count": 4,
   "metadata": {},
   "outputs": [
    {
     "name": "stdout",
     "output_type": "stream",
     "text": [
      "*************** test case # 1 ***************\n",
      "array[:5]: [3, 2, 1, 5, 6]\n",
      "k = 2\n",
      "output: 5\n",
      "*************** test case # 2 ***************\n",
      "array[:5]: [3, 2, 3, 1, 2]\n",
      "k = 4\n",
      "output: 4\n",
      "*************** test case # 3 ***************\n",
      "array[:5]: [1, 2, 3, 4, 5]\n",
      "k = 7\n",
      "output: 4\n",
      "*************** test case # 4 ***************\n",
      "array[:5]: [1, 2, 3, 4, 5]\n",
      "k = 4\n",
      "output: 7\n",
      "*************** test case # 5 ***************\n",
      "array[:5]: [1, 2, 3, 4, 5]\n",
      "k = 10\n",
      "output: 1\n",
      "*************** test case # 6 ***************\n",
      "array[:5]: [8, 8, 5, 7, 0]\n",
      "k = 99997\n",
      "output: 0\n",
      "*************** test case # 7 ***************\n",
      "array[:5]: [8, 7, 4, 7, 0]\n",
      "k = 2\n",
      "output: 9\n"
     ]
    }
   ],
   "source": [
    "### run test cases\n",
    "count = 0\n",
    "for case in test_cases:\n",
    "    count += 1\n",
    "    print(\"*************** test case #\", count, \"***************\")\n",
    "    print(\"array[:5]:\",case[0][:5]) # only print first 5 numbers\n",
    "    print(\"k =\",case[1])\n",
    "    print(\"output:\",find_kth_largest(case[0],case[1]))"
   ]
  },
  {
   "cell_type": "markdown",
   "metadata": {},
   "source": [
    "# Question 2 Multithreading pop"
   ]
  },
  {
   "cell_type": "markdown",
   "metadata": {},
   "source": [
    "Using python data structure Queue, generate a queue that have 10000 elments.<br>\n",
    "Then use 1, 5, 20 threads to pop out the elments out.<br>\n",
    "Compare the efficiency when you use different number of threads and explain why you see the pattern of performance."
   ]
  },
  {
   "cell_type": "code",
   "execution_count": 5,
   "metadata": {},
   "outputs": [],
   "source": [
    "from queue import Queue\n",
    "import threading\n",
    "import time"
   ]
  },
  {
   "cell_type": "code",
   "execution_count": 6,
   "metadata": {},
   "outputs": [],
   "source": [
    "# generate Queue with 10,000 elements\n",
    "def build_queue():\n",
    "    q = Queue()\n",
    "    for i in range(10000):\n",
    "        q.put(randrange(10))\n",
    "    return q"
   ]
  },
  {
   "cell_type": "code",
   "execution_count": 7,
   "metadata": {},
   "outputs": [],
   "source": [
    "# pop function used for threading\n",
    "def thread_func(q):\n",
    "    while not q.empty():\n",
    "        q.get()\n",
    "        time.sleep(1e-4) # sleep for 1/10000 seconds to simulate heavier computation (1 second total for all elements)"
   ]
  },
  {
   "cell_type": "code",
   "execution_count": 8,
   "metadata": {},
   "outputs": [],
   "source": [
    "def run_threads(m_queue,num_threads):\n",
    "    threads = list()\n",
    "    for index in range(num_threads):\n",
    "        x = threading.Thread(target=thread_func, args=(m_queue,))\n",
    "        threads.append(x)\n",
    "        x.start()\n",
    "\n",
    "    for x in threads:\n",
    "        x.join()"
   ]
  },
  {
   "cell_type": "code",
   "execution_count": 9,
   "metadata": {},
   "outputs": [
    {
     "name": "stdout",
     "output_type": "stream",
     "text": [
      "Wall time: 2min 38s\n"
     ]
    }
   ],
   "source": [
    "%%time\n",
    "run_threads(build_queue(),1) # run 1 thread"
   ]
  },
  {
   "cell_type": "code",
   "execution_count": 10,
   "metadata": {},
   "outputs": [
    {
     "name": "stdout",
     "output_type": "stream",
     "text": [
      "Wall time: 31.9 s\n"
     ]
    }
   ],
   "source": [
    "%%time\n",
    "run_threads(build_queue(),5) # run 5 threads"
   ]
  },
  {
   "cell_type": "code",
   "execution_count": 11,
   "metadata": {},
   "outputs": [
    {
     "name": "stdout",
     "output_type": "stream",
     "text": [
      "Wall time: 7.98 s\n"
     ]
    }
   ],
   "source": [
    "%%time\n",
    "run_threads(build_queue(),20) # run 20 threads"
   ]
  },
  {
   "cell_type": "markdown",
   "metadata": {},
   "source": [
    "We can see from the above results that the more threads there are, the faster the computation goes.<br>\n",
    "Also, it can be noted that this increase in speed is linear (i.e. 2x the threads = half the speed).<br>\n",
    "This linear increase makes sense since the computation (get function) runs in linear time."
   ]
  }
 ],
 "metadata": {
  "kernelspec": {
   "display_name": "Python 3",
   "language": "python",
   "name": "python3"
  },
  "language_info": {
   "codemirror_mode": {
    "name": "ipython",
    "version": 3
   },
   "file_extension": ".py",
   "mimetype": "text/x-python",
   "name": "python",
   "nbconvert_exporter": "python",
   "pygments_lexer": "ipython3",
   "version": "3.7.6"
  }
 },
 "nbformat": 4,
 "nbformat_minor": 4
}
